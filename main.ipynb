{
 "cells": [
  {
   "cell_type": "code",
   "execution_count": 5,
   "metadata": {},
   "outputs": [
    {
     "name": "stdout",
     "output_type": "stream",
     "text": [
      "{'start': {'': {'H1E'}}, 'UAN': {'': {'end'}}}\n"
     ]
    }
   ],
   "source": [
    "import random\n",
    "import string\n",
    "# special_chars = r\".+*?^$()[]{}\\|\"\n",
    "\n",
    "def randstr(N=3):\n",
    "    return ''.join(random.choice(string.ascii_uppercase + string.digits) for _ in range(N))\n",
    "\n",
    "SPECIAL_CHARS = r'\\[]'\n",
    "\n",
    "import regex as re\n",
    "from copy import deepcopy\n",
    "EXIT_STATE = 'end'\n",
    "START_STATE = 'start'\n",
    "\n",
    "def make_or_nfa(pattern):\n",
    "    assert pattern[0] != '('\n",
    "    pattern = list(pattern)\n",
    "    \n",
    "    groups = []\n",
    "    current_group = ''\n",
    "    while pattern:\n",
    "        next_char = pattern.pop(0)\n",
    "\n",
    "        if next_char == '\\\\':\n",
    "            assert pattern != '', 'group can\\'t end in odd # backslashes'\n",
    "            current_group += next_char+pattern.pop(0)\n",
    "        elif next_char == '|':\n",
    "            groups.append(current_group)\n",
    "            current_group = ''\n",
    "        else:\n",
    "            current_group += next_char\n",
    "    \n",
    "    groups.append(current_group)\n",
    "\n",
    "    groups = [make_nfa(group) for group in groups]\n",
    "    group_starts = []\n",
    "    nfa = {}\n",
    "    for group_nfa in groups:\n",
    "        new_start, new_end = rename_boundary_states(group_nfa)\n",
    "        group_nfa[new_end] = {'': {EXIT_STATE}}\n",
    "        group_starts.append(new_start)\n",
    "        nfa.update(group_nfa)\n",
    "    nfa[START_STATE] = {'': set(group_starts)}\n",
    "    return nfa\n",
    "        \n",
    "\n",
    "\n",
    "open_to_close = {\n",
    "    '[': ']',\n",
    "    '(': ')',\n",
    "    '\\{': '\\}'\n",
    "}\n",
    "\n",
    "def extract_bracketed_group(s):\n",
    "    # s == a string that starts with a valid opening character: [, ), {\n",
    "    open_ = s[0]\n",
    "    close_ = open_to_close[open_]\n",
    "    s = s[1:]\n",
    "    counter = 1\n",
    "    skip = False\n",
    "    for i, c in enumerate(s):\n",
    "        if skip == True:\n",
    "            skip = False\n",
    "            continue\n",
    "        if c == '\\\\':\n",
    "            skip = True\n",
    "            continue\n",
    "        if c == open_:\n",
    "            counter += 1\n",
    "        elif c == close_:\n",
    "            counter -= 1\n",
    "        if counter == 0:\n",
    "            return open_+s[:i]+close_\n",
    "    return False\n",
    "        \n",
    "            \n",
    "extract_bracketed_group('(teb\\)k[as[ti]n)]g]')\n",
    "\n",
    "def make_char_nfa(bracket_insides: str):\n",
    "    pat = '|'.join(list(bracket_insides))\n",
    "    or_nfa = make_or_nfa(pat)\n",
    "    return or_nfa\n",
    "\n",
    "\n",
    "\n",
    "def combine_nfas(nfa1, nfa2):\n",
    "    in_between_state = 'transition_'+randstr()\n",
    "    nfa1, nfa2 = deepcopy(nfa1), deepcopy(nfa2)\n",
    "    for current_state, transition_rules in nfa1.items():\n",
    "        for k, v in transition_rules.items():\n",
    "            if EXIT_STATE in v:\n",
    "                v.remove(EXIT_STATE)\n",
    "                v.append(in_between_state)\n",
    "    for current_state, transition_rules in nfa2.items():\n",
    "        if current_state == START_STATE:\n",
    "            nfa2[in_between_state] = deepcopy(transition_rules)\n",
    "        break\n",
    "    del nfa2[START_STATE]\n",
    "\n",
    "    nfa1.update(nfa2)\n",
    "    return nfa1\n",
    "\n",
    "# def join_group(partial_nfa, group_nfa, current_state):\n",
    "\n",
    "    \n",
    "def rename_boundary_states(nfa):\n",
    "    assert EXIT_STATE not in nfa\n",
    "    new_start, new_end = randstr(), randstr()\n",
    "    \n",
    "    assert START_STATE in nfa\n",
    "    nfa[new_start] = deepcopy(nfa[START_STATE])\n",
    "\n",
    "    if START_STATE in nfa:\n",
    "        del nfa[START_STATE]\n",
    "\n",
    "    for state, transitions in nfa.items():\n",
    "        for key, dests in transitions.items():\n",
    "            assert isinstance(dests, set), dests\n",
    "            if EXIT_STATE in dests:\n",
    "                nfa[state][key] = (dests - {EXIT_STATE}).union({new_end})\n",
    "    return new_start, new_end\n",
    "\n",
    "    \n",
    "def make_nfa(pattern):\n",
    "    # returns nfa: { current_state: {next_char: next_state, ...}, ...}\n",
    "\n",
    "    nfa = {}\n",
    "    current_state = START_STATE\n",
    "    pattern = list(pattern)\n",
    "    while pattern:\n",
    "        if pattern[0] in r'[({':\n",
    "            group = extract_bracketed_group(''.join(pattern))\n",
    "                \n",
    "            if group == False:\n",
    "                assert False, f\"Unbalanced group from here on: {''.join(pattern)}\"\n",
    "            elif group[0] == '(':\n",
    "                group_nfa = make_nfa(group[1:-1])\n",
    "            elif group[0] == '[':\n",
    "                group_nfa = make_char_nfa(group[1:-1])\n",
    "            elif group[0] == '\\{':\n",
    "                assert False, r'{...} unimplemented'\n",
    "            \n",
    "            gp_start, gp_end = rename_boundary_states(group_nfa)\n",
    "            nfa[current_state] = {\n",
    "                '': {gp_start}\n",
    "            }\n",
    "            current_state = gp_end\n",
    "\n",
    "            pattern = pattern[len(group):]\n",
    "            continue\n",
    "        else:\n",
    "            c = pattern.pop(0)\n",
    "            assert c not in SPECIAL_CHARS\n",
    "            next_state = randstr()\n",
    "            nfa[current_state] = {\n",
    "                    c: {next_state}\n",
    "                }\n",
    "            current_state = next_state\n",
    "\n",
    "\n",
    "    nfa[current_state] = {'': {EXIT_STATE}}\n",
    "    return nfa\n",
    "\n",
    "def check(nfa, s):\n",
    "    matches = []\n",
    "    pennies = [{'state': START_STATE, 'i': 0, 'eps_seen_states': set()}]\n",
    "    while pennies:\n",
    "        penny = pennies.pop()\n",
    "        state = penny['state']\n",
    "\n",
    "        next_char = s[penny['i']] if penny['i'] < len(s) else False\n",
    "\n",
    "\n",
    "        for next_state in nfa.get(state, {}).get('', []):\n",
    "            if next_state not in penny['eps_seen_states']:\n",
    "                new_penny = deepcopy(penny)\n",
    "                new_penny['eps_seen_states'].add(penny['state'])\n",
    "                new_penny['state'] = next_state\n",
    "                pennies.append(new_penny)\n",
    "    \n",
    "        if next_char in nfa.get(state, {}):\n",
    "            for new_state in nfa[state][next_char]:\n",
    "                new_penny = deepcopy(penny)\n",
    "                new_penny['eps_seen_states'] = set()\n",
    "                new_penny['state'] = new_state\n",
    "                new_penny['i'] += 1\n",
    "                pennies.append(new_penny)\n",
    "        \n",
    "        if next_char == False and penny['state'] == EXIT_STATE:\n",
    "                return True\n",
    "    else:\n",
    "        return False\n",
    "    \n",
    "    \n",
    "                \n",
    "\n",
    "# nfa1 = make_nfa('ab')\n",
    "nfa2 = make_nfa('[d]')\n",
    "print(nfa2)\n",
    "\n",
    "\n",
    "# check(nfa2, 'd')\n"
   ]
  },
  {
   "cell_type": "code",
   "execution_count": 49,
   "metadata": {},
   "outputs": [
    {
     "name": "stdout",
     "output_type": "stream",
     "text": [
      "or_pattern d|f\n"
     ]
    },
    {
     "data": {
      "text/plain": [
       "{'start': {'d': {'34G'}}, '34G': {'f': {'2Y3'}}, '2Y3': {'': ['end']}}"
      ]
     },
     "execution_count": 49,
     "metadata": {},
     "output_type": "execute_result"
    }
   ],
   "source": [
    "make_nfa('[df]')"
   ]
  },
  {
   "cell_type": "code",
   "execution_count": 40,
   "metadata": {},
   "outputs": [
    {
     "name": "stdout",
     "output_type": "stream",
     "text": [
      "<regex.Match object; span=(4, 5), match='|'>\n"
     ]
    }
   ],
   "source": []
  },
  {
   "cell_type": "code",
   "execution_count": 32,
   "metadata": {},
   "outputs": [
    {
     "data": {
      "text/plain": [
       "<regex.Match object; span=(4, 5), match='|'>"
      ]
     },
     "execution_count": 32,
     "metadata": {},
     "output_type": "execute_result"
    }
   ],
   "source": [
    "A"
   ]
  },
  {
   "cell_type": "code",
   "execution_count": null,
   "metadata": {},
   "outputs": [],
   "source": [
    "def get_valid_empty_transition_children(nfa, penny):\n",
    "    pennies = [penny]\n",
    "    while True:\n",
    "        for penny in pennies:\n",
    "            if "
   ]
  },
  {
   "cell_type": "code",
   "execution_count": null,
   "metadata": {},
   "outputs": [],
   "source": [
    "def simplify_arrows(nfa):\n",
    "    simplified_nfa = deepcopy(nfa)\n",
    "    for state, transitions in nfa.items():\n",
    "        if '' in transitions:\n",
    "            new_state_set = []\n",
    "            null_transitions = transitions\n",
    "            seen = set(transitions)\n",
    "            assert state not in transitions\n",
    "            seen.add(state)\n",
    "            while True:\n",
    "                new = [new_state for new_state in transitions[''] if new_state not in seen]\n",
    "\n",
    "            "
   ]
  },
  {
   "cell_type": "code",
   "execution_count": 69,
   "metadata": {},
   "outputs": [
    {
     "data": {
      "text/plain": [
       "['test']"
      ]
     },
     "execution_count": 69,
     "metadata": {},
     "output_type": "execute_result"
    }
   ],
   "source": [
    "A = ['test', 'ing']\n",
    "A.remove('ing')\n",
    "A"
   ]
  },
  {
   "cell_type": "code",
   "execution_count": 60,
   "metadata": {},
   "outputs": [
    {
     "data": {
      "text/plain": [
       "'(teb\\\\)k[as[ti]n)'"
      ]
     },
     "execution_count": 60,
     "metadata": {},
     "output_type": "execute_result"
    }
   ],
   "source": []
  },
  {
   "cell_type": "code",
   "execution_count": 45,
   "metadata": {},
   "outputs": [
    {
     "data": {
      "text/plain": [
       "'(?<!\\\\)(\\\\\\\\)*+|'"
      ]
     },
     "execution_count": 45,
     "metadata": {},
     "output_type": "execute_result"
    }
   ],
   "source": [
    "r'(?<!\\)(\\\\)*+|'"
   ]
  },
  {
   "cell_type": "code",
   "execution_count": null,
   "metadata": {},
   "outputs": [],
   "source": []
  }
 ],
 "metadata": {
  "kernelspec": {
   "display_name": "hi",
   "language": "python",
   "name": "python3"
  },
  "language_info": {
   "codemirror_mode": {
    "name": "ipython",
    "version": 3
   },
   "file_extension": ".py",
   "mimetype": "text/x-python",
   "name": "python",
   "nbconvert_exporter": "python",
   "pygments_lexer": "ipython3",
   "version": "3.11.5"
  }
 },
 "nbformat": 4,
 "nbformat_minor": 2
}
